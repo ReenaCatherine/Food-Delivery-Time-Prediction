{
 "cells": [
  {
   "cell_type": "code",
   "execution_count": null,
   "id": "5f7a613d",
   "metadata": {},
   "outputs": [],
   "source": [
    "import pandas as pd\n",
    "import numpy as np\n",
    "import plotly.express as px"
   ]
  },
  {
   "cell_type": "code",
   "execution_count": null,
   "id": "9f995772",
   "metadata": {},
   "outputs": [],
   "source": [
    "data=pd.read_csv(\"DeliveryTime.csv\")\n",
    "print(data.head())"
   ]
  },
  {
   "cell_type": "code",
   "execution_count": null,
   "id": "591478a4",
   "metadata": {},
   "outputs": [],
   "source": [
    "# column insights\n",
    "data.info()"
   ]
  },
  {
   "cell_type": "code",
   "execution_count": null,
   "id": "e4cb4069",
   "metadata": {},
   "outputs": [],
   "source": [
    "# any null values?\n",
    "data.isnull().sum()"
   ]
  },
  {
   "cell_type": "markdown",
   "id": "8cda2e22",
   "metadata": {},
   "source": [
    "## Calculate distance between 2 locations"
   ]
  },
  {
   "cell_type": "code",
   "execution_count": null,
   "id": "2fe554c5",
   "metadata": {},
   "outputs": [],
   "source": [
    "# use haversine formula to calculate distance btn. 2 locations\n",
    "\n",
    "# earth's radius\n",
    "R=6371\n",
    "\n",
    "# function to convert degrees to radians\n",
    "def deg_to_rad(degrees):\n",
    "    return degrees*(np.pi/180)\n",
    "\n",
    "# function to calculate distance btn. 2 points\n",
    "def calculate(lat1,lon1,lat2,lon2):\n",
    "    d_lat=deg_to_rad(lat2-lat1)\n",
    "    d_lon=deg_to_rad(lon2-lon1)\n",
    "    a=np.sin(d_lat/2)**2 + np.cos(deg_to_rad(lat1)) * np.cos(deg_to_rad(lat2)) * np.sin(d_lon/2)**2\n",
    "    c=2*np.arctan2(np.sqrt(a),np.sqrt(1-a))\n",
    "    return R*c\n",
    "\n",
    "# distance btn. each pair of points\n",
    "data['distance'] = np.nan\n",
    "for i in range(len(data)):\n",
    "    data.loc[i,'distance'] = calculate(data.loc[i,'Restaurant_latitude'],\n",
    "                                      data.loc[i,'Restaurant_longitude'],\n",
    "                                      data.loc[i,'Delivery_location_latitude'],\n",
    "                                      data.loc[i,'Delivery_location_longitude'])"
   ]
  },
  {
   "cell_type": "code",
   "execution_count": null,
   "id": "07191f5e",
   "metadata": {},
   "outputs": [],
   "source": [
    "# let us look at 'data'\n",
    "print(data.head())"
   ]
  },
  {
   "cell_type": "markdown",
   "id": "b4e319b1",
   "metadata": {},
   "source": [
    "## Data exploration"
   ]
  },
  {
   "cell_type": "code",
   "execution_count": null,
   "id": "e0d98de7",
   "metadata": {},
   "outputs": [],
   "source": [
    "figure=px.scatter(data_frame=data,x='distance',y='Time_taken(min)',\n",
    "                 size='Time_taken(min)', trendline='ols',\n",
    "                 title='Relationship between distance and time taken')\n",
    "figure.show()"
   ]
  },
  {
   "cell_type": "markdown",
   "id": "479bbe4d",
   "metadata": {},
   "source": [
    "There is consistent relationship between the time taken and distance travelled to deliver the food. It means that most delivery partners deliver food within 25-30 minutes, regardless of distance"
   ]
  },
  {
   "cell_type": "code",
   "execution_count": null,
   "id": "1e39c309",
   "metadata": {},
   "outputs": [],
   "source": [
    "# relationship btn. time taken to deliver food & age of delivery partner\n",
    "figure=px.scatter(data_frame=data,x='Delivery_person_Age',y='Time_taken(min)',\n",
    "                 size='Time_taken(min)',color='distance',trendline='ols',\n",
    "                 title='Relationship between time taken to delivery food & Age of delivery partner')\n",
    "figure.show()"
   ]
  },
  {
   "cell_type": "markdown",
   "id": "fbd8ec1d",
   "metadata": {},
   "source": [
    "There is a linear relationship between the time taken to delivery the food & age of delivery partner. It means young delivery partners take less time to deliver food compared to the elder partners"
   ]
  },
  {
   "cell_type": "code",
   "execution_count": null,
   "id": "3d27fa36",
   "metadata": {},
   "outputs": [],
   "source": [
    "# relationship btn. time taken to delivery the food & ratings of delivery partner\n",
    "figure=px.scatter(data_frame=data,x='Delivery_person_Ratings',y='Time_taken(min)',\n",
    "                 size='Time_taken(min)',color='distance',trendline='ols',\n",
    "                 title='Relationship between time taken to delivery food & Ratings of delivery partner')\n",
    "figure.show()"
   ]
  },
  {
   "cell_type": "markdown",
   "id": "f815faff",
   "metadata": {},
   "source": [
    "There is an inverse linear relationship between the time taken to deliver the food and the ratings of the delivery partner. It means delivery partners with higher ratings take less time to deliver the food compared to partners with low ratings."
   ]
  },
  {
   "cell_type": "code",
   "execution_count": null,
   "id": "c9bc0848",
   "metadata": {},
   "outputs": [],
   "source": [
    "# type of food ordered by customer & type of vehicle used by delivery partner \n",
    "# affects delivery time or not\n",
    "fig = px.box(data,x=\"Type_of_vehicle\",y=\"Time_taken(min)\", \n",
    "             color=\"Type_of_order\")\n",
    "fig.show()"
   ]
  },
  {
   "cell_type": "markdown",
   "id": "dea4fdf4",
   "metadata": {},
   "source": [
    "There is not much difference btn. time taken by delivery partners depending on the vehicle they are driving and the type of food they are delivering."
   ]
  },
  {
   "cell_type": "markdown",
   "id": "fb80e92c",
   "metadata": {},
   "source": [
    "## Food Delivery time prediction model"
   ]
  },
  {
   "cell_type": "markdown",
   "id": "7507fa00",
   "metadata": {},
   "source": [
    "Machine learning model - LSTM neural network model for food delivery time prediction"
   ]
  },
  {
   "cell_type": "code",
   "execution_count": null,
   "id": "56ad2f7e",
   "metadata": {},
   "outputs": [],
   "source": [
    "# splitting data\n",
    "from sklearn.model_selection import train_test_split\n",
    "x=np.array(data[['Delivery_person_Age','Delivery_person_Ratings','distance']])\n",
    "y=np.array(data[['Time_taken(min)']])\n",
    "xtrain,xtest,ytrain,ytest=train_test_split(x,y,test_size=0.10,random_state=42)\n"
   ]
  },
  {
   "cell_type": "code",
   "execution_count": null,
   "id": "95b6bf8e",
   "metadata": {
    "scrolled": true
   },
   "outputs": [],
   "source": [
    "# creating the LSTM neural network model\n",
    "from keras.models import Sequential\n",
    "from keras.layers import Dense, LSTM\n",
    "model = Sequential()\n",
    "model.add(LSTM(128, return_sequences=True, input_shape= (xtrain.shape[1], 1)))\n",
    "model.add(LSTM(64, return_sequences=False))\n",
    "model.add(Dense(25))\n",
    "model.add(Dense(1))\n",
    "model.summary()"
   ]
  },
  {
   "cell_type": "code",
   "execution_count": null,
   "id": "01420ba1",
   "metadata": {},
   "outputs": [],
   "source": [
    "# training the model\n",
    "model.compile(optimizer='adam', loss='mean_squared_error')\n",
    "model.fit(xtrain, ytrain, batch_size=1, epochs=9)"
   ]
  },
  {
   "cell_type": "code",
   "execution_count": null,
   "id": "343097e5",
   "metadata": {},
   "outputs": [],
   "source": [
    "# let us test the performance of our model by giving inputs \n",
    "# to predict the food delivery time\n",
    "print('Food Delivery Time Prediction')\n",
    "a=int(input('Age of Delivery Partner:'))\n",
    "b=float(input('Ratings of Previous Deliveries:'))\n",
    "c=int(input('Total Distance:'))\n",
    "\n",
    "features=np.array([[a,b,c]])\n",
    "print('Predicted Delivery time in minutes is:', model.predict(features))"
   ]
  }
 ],
 "metadata": {
  "kernelspec": {
   "display_name": "testenv",
   "language": "python",
   "name": "testenv"
  },
  "language_info": {
   "codemirror_mode": {
    "name": "ipython",
    "version": 3
   },
   "file_extension": ".py",
   "mimetype": "text/x-python",
   "name": "python",
   "nbconvert_exporter": "python",
   "pygments_lexer": "ipython3",
   "version": "3.11.5"
  }
 },
 "nbformat": 4,
 "nbformat_minor": 5
}
